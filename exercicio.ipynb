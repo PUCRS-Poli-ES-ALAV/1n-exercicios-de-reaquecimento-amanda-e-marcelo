{
 "cells": [
  {
   "cell_type": "markdown",
   "metadata": {},
   "source": [
    "Exercicio 1"
   ]
  },
  {
   "cell_type": "code",
   "execution_count": 4,
   "metadata": {},
   "outputs": [
    {
     "name": "stdout",
     "output_type": "stream",
     "text": [
      "24\n"
     ]
    }
   ],
   "source": [
    "def multiplicacao(a, b):\n",
    "    # Caso base: se um dos números for 0, o resultado é 0\n",
    "    if b == 0:\n",
    "        return 0\n",
    "    # Caso recursivo: soma a a b vezes\n",
    "    return a + multiplicacao(a, b - 1)\n",
    "\n",
    "# Exemplo: 6 * 4\n",
    "print(multiplicacao(6, 4))"
   ]
  },
  {
   "cell_type": "markdown",
   "metadata": {},
   "source": [
    "Exercicio 2"
   ]
  },
  {
   "cell_type": "code",
   "execution_count": 5,
   "metadata": {},
   "outputs": [
    {
     "name": "stdout",
     "output_type": "stream",
     "text": [
      "5\n"
     ]
    }
   ],
   "source": [
    "def soma(a, b):\n",
    "    # Caso base: se b for 0, o resultado é a\n",
    "    if b == 0:\n",
    "        return a\n",
    "    # Caso recursivo: soma 1 ao valor de a, b vezes\n",
    "    return soma(a + 1, b - 1)\n",
    "\n",
    "# Exemplo: 3 + 2\n",
    "print(soma(3, 2))"
   ]
  },
  {
   "cell_type": "markdown",
   "metadata": {},
   "source": [
    "Exercicio 3\n"
   ]
  },
  {
   "cell_type": "code",
   "execution_count": 6,
   "metadata": {},
   "outputs": [
    {
     "name": "stdout",
     "output_type": "stream",
     "text": [
      "2.083333333333333\n"
     ]
    }
   ],
   "source": [
    "def soma_serie(n):\n",
    "    # Caso base: se n for 1, o resultado é 1\n",
    "    if n == 1:\n",
    "        return 1\n",
    "    # Caso recursivo: soma 1/n à soma dos termos anteriores\n",
    "    return 1/n + soma_serie(n - 1)\n",
    "\n",
    "# Exemplo: soma da série até 4\n",
    "print(soma_serie(4))\n"
   ]
  },
  {
   "cell_type": "markdown",
   "metadata": {},
   "source": [
    "Exercicio 4"
   ]
  },
  {
   "cell_type": "code",
   "execution_count": 10,
   "metadata": {},
   "outputs": [
    {
     "name": "stdout",
     "output_type": "stream",
     "text": [
      "ahnidnama\n"
     ]
    }
   ],
   "source": [
    "def inverter_string(s):\n",
    "    # Caso base: se a string for vazia ou tiver um único caractere\n",
    "    if len(s) <= 1:\n",
    "        return s\n",
    "    # Caso recursivo: inverte a string removendo o primeiro caractere e concatenando com o resto\n",
    "    return inverter_string(s[1:]) + s[0]\n",
    "\n",
    "# Exemplo: inverter a string\n",
    "print(inverter_string(\"amandinha\"))\n"
   ]
  },
  {
   "cell_type": "markdown",
   "metadata": {},
   "source": [
    "Exercicio 5"
   ]
  },
  {
   "cell_type": "code",
   "execution_count": 11,
   "metadata": {},
   "outputs": [
    {
     "name": "stdout",
     "output_type": "stream",
     "text": [
      "61\n"
     ]
    }
   ],
   "source": [
    "def sequencia_f(n):\n",
    "    # Caso base: F(1) = 1, F(2) = 2\n",
    "    if n == 1:\n",
    "        return 1\n",
    "    elif n == 2:\n",
    "        return 2\n",
    "    # Caso recursivo: F(n) = 2 * F(n-1) + 3 * F(n-2)\n",
    "    return 2 * sequencia_f(n - 1) + 3 * sequencia_f(n - 2)\n",
    "\n",
    "# Exemplo: F(5)\n",
    "print(sequencia_f(5))\n"
   ]
  },
  {
   "cell_type": "markdown",
   "metadata": {},
   "source": [
    "Exercicio 6"
   ]
  },
  {
   "cell_type": "code",
   "execution_count": 12,
   "metadata": {},
   "outputs": [
    {
     "name": "stdout",
     "output_type": "stream",
     "text": [
      "5\n"
     ]
    }
   ],
   "source": [
    "def ackerman(m, n):\n",
    "    if m == 0:\n",
    "        return n + 1\n",
    "    elif m != 0 and n == 0:\n",
    "        return ackerman(m - 1, 1)\n",
    "    else:\n",
    "        return ackerman(m - 1, ackerman(m, n - 1))\n",
    "\n",
    "# Exemplo: A(2, 1)\n",
    "print(ackerman(2, 1))\n"
   ]
  },
  {
   "cell_type": "markdown",
   "metadata": {},
   "source": [
    "Exercicio 7"
   ]
  },
  {
   "cell_type": "code",
   "execution_count": 13,
   "metadata": {},
   "outputs": [
    {
     "name": "stdout",
     "output_type": "stream",
     "text": [
      "10\n",
      "24\n"
     ]
    }
   ],
   "source": [
    "def soma_vetor(vetor):\n",
    "    # Caso base: vetor vazio\n",
    "    if len(vetor) == 0:\n",
    "        return 0\n",
    "    # Caso recursivo: soma o primeiro elemento com a soma do restante\n",
    "    return vetor[0] + soma_vetor(vetor[1:])\n",
    "\n",
    "def produto_vetor(vetor):\n",
    "    # Caso base: vetor vazio\n",
    "    if len(vetor) == 0:\n",
    "        return 1\n",
    "    # Caso recursivo: multiplica o primeiro elemento com o produto do restante\n",
    "    return vetor[0] * produto_vetor(vetor[1:])\n",
    "\n",
    "# Exemplo: vetor [1, 2, 3, 4]\n",
    "print(soma_vetor([1, 2, 3, 4]))\n",
    "print(produto_vetor([1, 2, 3, 4]))\n"
   ]
  },
  {
   "cell_type": "markdown",
   "metadata": {},
   "source": [
    "Exercicio 8"
   ]
  },
  {
   "cell_type": "code",
   "execution_count": 14,
   "metadata": {},
   "outputs": [
    {
     "name": "stdout",
     "output_type": "stream",
     "text": [
      "True\n"
     ]
    }
   ],
   "source": [
    "def palindromo(s):\n",
    "    # Caso base: se a string for de um único caractere ou vazia\n",
    "    if len(s) <= 1:\n",
    "        return True\n",
    "    # Caso recursivo: verifica se o primeiro e o último caractere são iguais\n",
    "    if s[0] == s[-1]:\n",
    "        return palindromo(s[1:-1])\n",
    "    return False\n",
    "\n",
    "# Exemplo: verificar se \"aba\" é palíndromo\n",
    "print(palindromo(\"aba\"))\n"
   ]
  },
  {
   "cell_type": "markdown",
   "metadata": {},
   "source": [
    "Exercicio 9"
   ]
  },
  {
   "cell_type": "code",
   "execution_count": 15,
   "metadata": {},
   "outputs": [
    {
     "name": "stdout",
     "output_type": "stream",
     "text": [
      "ABC\n",
      "ACB\n",
      "BAC\n",
      "BCA\n",
      "CAB\n",
      "CBA\n"
     ]
    }
   ],
   "source": [
    "import itertools\n",
    "\n",
    "def gerar_combinacoes(n):\n",
    "    alfabeto = \"ABCDEFGHIJKLMNOPQRSTUVWXYZ\"\n",
    "    # Gerar todas as permutações das n primeiras letras\n",
    "    return list(itertools.permutations(alfabeto[:n]))\n",
    "\n",
    "# Exemplo: gerar combinações para n = 3\n",
    "combinacoes = gerar_combinacoes(3)\n",
    "for c in combinacoes:\n",
    "    print(\"\".join(c))\n"
   ]
  },
  {
   "cell_type": "markdown",
   "metadata": {},
   "source": [
    "Exercicio 10"
   ]
  },
  {
   "cell_type": "code",
   "execution_count": 16,
   "metadata": {},
   "outputs": [
    {
     "name": "stdout",
     "output_type": "stream",
     "text": [
      "13\n"
     ]
    }
   ],
   "source": [
    "def fibg(f0, f1, n):\n",
    "    # Caso base: fibg(f0, f1, 0) = f0, fibg(f0, f1, 1) = f1\n",
    "    if n == 0:\n",
    "        return f0\n",
    "    elif n == 1:\n",
    "        return f1\n",
    "    # Caso recursivo: fibg(f0, f1, n) = fibg(f0, f1, n-1) + fibg(f0, f1, n-2)\n",
    "    return fibg(f0, f1, n - 1) + fibg(f0, f1, n - 2)\n",
    "\n",
    "# Exemplo: Fibonacci generalizada com f0 = 1, f1 = 2 e n = 5\n",
    "print(fibg(1, 2, 5))\n"
   ]
  }
 ],
 "metadata": {
  "kernelspec": {
   "display_name": "base",
   "language": "python",
   "name": "python3"
  },
  "language_info": {
   "codemirror_mode": {
    "name": "ipython",
    "version": 3
   },
   "file_extension": ".py",
   "mimetype": "text/x-python",
   "name": "python",
   "nbconvert_exporter": "python",
   "pygments_lexer": "ipython3",
   "version": "3.11.10"
  }
 },
 "nbformat": 4,
 "nbformat_minor": 2
}
